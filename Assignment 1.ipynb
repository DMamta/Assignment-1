{
 "cells": [
  {
   "cell_type": "code",
   "execution_count": null,
   "id": "65ee814c",
   "metadata": {},
   "outputs": [],
   "source": [
    "1. In the below elements which of them are values or an expression? eg:- values can be integer or string and expressions will be mathematical operators.\n",
    "* \n",
    "'hello' Value\n",
    "-87.8  value\n",
    "-  Expression\n",
    "/ Expression \n",
    "+\tExpressionV\n",
    "6 Value\n"
   ]
  },
  {
   "cell_type": "code",
   "execution_count": null,
   "id": "f22293d1",
   "metadata": {},
   "outputs": [],
   "source": [
    "What is the difference between string and variable\n",
    "\n",
    "String :- any series of character that can be written on the script\n",
    "Variable :- like the name suggest that can be changed or can be used to store the data\n",
    "\n",
    "    \n",
    "    "
   ]
  },
  {
   "cell_type": "code",
   "execution_count": null,
   "id": "9c8c4a43",
   "metadata": {},
   "outputs": [],
   "source": [
    "3. Describe three different data types.\n",
    "\n",
    "List\n",
    "Integers\n",
    "Complex number\n",
    "String"
   ]
  },
  {
   "cell_type": "code",
   "execution_count": null,
   "id": "75bfabee",
   "metadata": {},
   "outputs": [],
   "source": [
    "This assignment statements, like spam = 10. What is the difference between an expression and a statement?\n",
    "\n",
    "Expression is made up of values, containers, and mathematical operators (operands) and the statement is just like a command that a python interpreter executes like print"
   ]
  },
  {
   "cell_type": "code",
   "execution_count": null,
   "id": "821331f2",
   "metadata": {},
   "outputs": [],
   "source": [
    "4. What is an expression made up of? What do all expressions do?\n",
    "Expression are madeup of values, matematical operators or any alphatic value\n",
    "all expressions are used to evaluate the value or represent the result on the screen"
   ]
  },
  {
   "cell_type": "code",
   "execution_count": null,
   "id": "47607e89",
   "metadata": {},
   "outputs": [],
   "source": [
    "After running the following code, what does the variable bacon contain?\n",
    "bacon = 22\n",
    "bacon + 1\n",
    "\n",
    "ans 23"
   ]
  },
  {
   "cell_type": "code",
   "execution_count": null,
   "id": "629f1d7f",
   "metadata": {},
   "outputs": [],
   "source": [
    "What should the values of the following two terms be\n",
    "\n",
    "1. spamspamspam'\n",
    "spamspamspam"
   ]
  },
  {
   "cell_type": "code",
   "execution_count": null,
   "id": "d2cdc80f",
   "metadata": {},
   "outputs": [],
   "source": [
    "8. Why is eggs a valid variable name while 100 is invalid?\n",
    "\n",
    "as we can not give a variable name as a integer."
   ]
  },
  {
   "cell_type": "code",
   "execution_count": null,
   "id": "d0b85dbd",
   "metadata": {},
   "outputs": [],
   "source": [
    "9. What three functions can be used to get the integer, floating-point number, or string version of a value?\n",
    "str() , int(), Float()"
   ]
  },
  {
   "cell_type": "code",
   "execution_count": null,
   "id": "d7e639f1",
   "metadata": {},
   "outputs": [],
   "source": [
    "Why does this expression cause an error? How can you fix it?\n",
    "\n",
    "'I have eaten' + 99 + 'burritos' \n",
    "\n",
    "because 99 is an integer it cannot be concatenated with strings, if we have to concatenate it we need to do typecasting.\n",
    "\n"
   ]
  }
 ],
 "metadata": {
  "kernelspec": {
   "display_name": "Python 3",
   "language": "python",
   "name": "python3"
  },
  "language_info": {
   "codemirror_mode": {
    "name": "ipython",
    "version": 3
   },
   "file_extension": ".py",
   "mimetype": "text/x-python",
   "name": "python",
   "nbconvert_exporter": "python",
   "pygments_lexer": "ipython3",
   "version": "3.8.8"
  }
 },
 "nbformat": 4,
 "nbformat_minor": 5
}
